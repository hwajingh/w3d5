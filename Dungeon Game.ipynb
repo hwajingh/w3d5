{
 "cells": [
  {
   "cell_type": "markdown",
   "metadata": {},
   "source": [
    "### Dungeon Egg Hunt\n",
    "\n",
    "Using object-oriented programming principles, create an egg hunt game. Your objective is to go through the dungeon to collect the basket and the eggs. Once you've retrieved all of the items, exit through the door.\n",
    "\n",
    "**RULES**:\n",
    "\n",
    "`1. ` Player, Monster, Door, Basket and the 3 Eggs must all start at a random locations on a grid.\n",
    "\n",
    "`2. ` Player must collect the Basket first before collecting the 3 Eggs. Player will not be able to collect any Eggs until it first has collected the Basket.\n",
    "\n",
    "`3. ` Once Player collects the Basket, then and only then will it be able to collect any Eggs.\n",
    "\n",
    "`4. ` When Player collects the Basket and the 3 Eggs, Player will need to head toward the Door.\n",
    "\n",
    "`5. ` The entire time the Player is searching for the Eggs, Basket and the Door, there will be a Monster trying to eat the Player.\n",
    "\n",
    "`6. ` If the Monster lands on the same space as the Player, or the Player lands on the same space as the Monster, the game ends and the game will prompt the user to play again.\n",
    "\n",
    "`7. ` If Player reaches the Door before the Monster catches them, you win the game and the game will prompt the user to play again.\n",
    "\n",
    "`8. ` The Player does not know where any of the other tokens are, so all of the tokens with the exception of the Player will be hidden.\n",
    "\n",
    "**Note**: For debugging purposes, you can create tokens for each of the other tokens. For example:<br>\n",
    "* Player (P)\n",
    "* Monster (M)\n",
    "* Eggs (O)\n",
    "* Basket (U)\n",
    "* Door (D)"
   ]
  },
  {
   "cell_type": "code",
   "execution_count": 75,
   "metadata": {},
   "outputs": [
    {
     "ename": "IndentationError",
     "evalue": "unindent does not match any outer indentation level (<tokenize>, line 16)",
     "output_type": "error",
     "traceback": [
      "\u001b[0;36m  File \u001b[0;32m\"<tokenize>\"\u001b[0;36m, line \u001b[0;32m16\u001b[0m\n\u001b[0;31m    while ind <= 25:\u001b[0m\n\u001b[0m    ^\u001b[0m\n\u001b[0;31mIndentationError\u001b[0m\u001b[0;31m:\u001b[0m unindent does not match any outer indentation level\n"
     ]
    }
   ],
   "source": [
    "CELLS = [\n",
    "    (0,0),(1,0),(2,0),(3,0),(4,0),\n",
    "    (0,1),(1,1),(2,1),(3,1),(4,1),\n",
    "    (0,2),(1,2),(2,2),(3,2),(4,2),\n",
    "    (0,3),(1,3),(2,3),(3,3),(4,3),\n",
    "    (0,4),(1,4),(2,4),(3,4),(4,4),\n",
    "  ]\n",
    "\n",
    "class Game:\n",
    "    def __init__(self):\n",
    "        pass\n",
    "        \n",
    "    def drawMap(self, CELLS):\n",
    "#         for cell in self.CELLS: \n",
    "           ind = 0\n",
    "       while ind <= 25:\n",
    "            if ind < 5:\n",
    "                for x in range(0,5):\n",
    "                    print(CELLS[x], end=\"\")\n",
    "                    ind+=1\n",
    "            elif ind < 10:\n",
    "                print(\"\\n\")\n",
    "                for x in range(5,10):\n",
    "                    print(CELLS[x], end=\"\")\n",
    "                    ind+=1\n",
    "            elif ind < 15:\n",
    "                print(\"\\n\")\n",
    "                for x in range(10,15):\n",
    "                    print(CELLS[x], end=\"\")\n",
    "                    ind+=1\n",
    "            elif ind < 20:\n",
    "                print(\"\\n\")\n",
    "                for x in range(15,20):\n",
    "                    print(CELLS[x], end=\"\")\n",
    "                    ind+=1\n",
    "            elif ind < 25:\n",
    "                print(\"\\n\")\n",
    "                for x in range(20,25):\n",
    "                    print(CELLS[x], end=\"\")\n",
    "                    ind+=1\n",
    "            else:\n",
    "                break\n",
    "                \n",
    "    \n",
    "class Token:\n",
    "    def __init__(self):\n",
    "        pass\n",
    "    \n",
    "class Player(Token):\n",
    "    pass\n",
    "\n",
    "class Monster(Token):\n",
    "    pass\n",
    "\n",
    "class Egg(Token):\n",
    "    pass\n",
    "\n",
    "class Basket(Token):\n",
    "    pass\n",
    "\n",
    "class Door(Token):\n",
    "    pass"
   ]
  },
  {
   "cell_type": "code",
   "execution_count": 73,
   "metadata": {},
   "outputs": [
    {
     "name": "stdout",
     "output_type": "stream",
     "text": [
      "(0, 0)(1, 0)(2, 0)(3, 0)(4, 0)\n",
      "\n",
      "(0, 1)(1, 1)(2, 1)(3, 1)(4, 1)\n",
      "\n",
      "(0, 2)(1, 2)(2, 2)(3, 2)(4, 2)\n",
      "\n",
      "(0, 3)(1, 3)(2, 3)(3, 3)(4, 3)\n",
      "\n",
      "(0, 4)(1, 4)(2, 4)(3, 4)(4, 4)"
     ]
    }
   ],
   "source": [
    "# tester = Game()\n",
    "# tester.drawMap(CELLS)\n",
    "import numpy as np\n",
    "ind = 0\n",
    "\n",
    "while ind <= 25:\n",
    "    if ind < 5:\n",
    "        for x in range(0,5):\n",
    "            print(CELLS[x], end=\"\")\n",
    "            ind+=1\n",
    "    elif ind < 10:\n",
    "        print(\"\\n\")\n",
    "        for x in range(5,10):\n",
    "            print(CELLS[x], end=\"\")\n",
    "            ind+=1\n",
    "    elif ind < 15:\n",
    "        print(\"\\n\")\n",
    "        for x in range(10,15):\n",
    "            print(CELLS[x], end=\"\")\n",
    "            ind+=1\n",
    "    elif ind < 20:\n",
    "        print(\"\\n\")\n",
    "        for x in range(15,20):\n",
    "            print(CELLS[x], end=\"\")\n",
    "            ind+=1\n",
    "    elif ind < 25:\n",
    "        print(\"\\n\")\n",
    "        for x in range(20,25):\n",
    "            print(CELLS[x], end=\"\")\n",
    "            ind+=1\n",
    "    else:\n",
    "        break\n",
    "\n",
    "\n",
    "\n"
   ]
  },
  {
   "cell_type": "code",
   "execution_count": 67,
   "metadata": {},
   "outputs": [
    {
     "name": "stdout",
     "output_type": "stream",
     "text": [
      "[[0 0]\n",
      " [1 0]\n",
      " [2 0]\n",
      " [3 0]\n",
      " [4 0]\n",
      " [0 1]\n",
      " [1 1]\n",
      " [2 1]\n",
      " [3 1]\n",
      " [4 1]\n",
      " [0 2]\n",
      " [1 2]\n",
      " [2 2]\n",
      " [3 2]\n",
      " [4 2]\n",
      " [0 3]\n",
      " [1 3]\n",
      " [2 3]\n",
      " [3 3]\n",
      " [4 3]\n",
      " [0 4]\n",
      " [1 4]\n",
      " [2 4]\n",
      " [3 4]\n",
      " [4 4]]\n"
     ]
    }
   ],
   "source": [
    "\n",
    "print(np.matrix(CELLS))\n"
   ]
  },
  {
   "cell_type": "code",
   "execution_count": null,
   "metadata": {},
   "outputs": [],
   "source": []
  }
 ],
 "metadata": {
  "kernelspec": {
   "display_name": "Python 3 (ipykernel)",
   "language": "python",
   "name": "python3"
  },
  "language_info": {
   "codemirror_mode": {
    "name": "ipython",
    "version": 3
   },
   "file_extension": ".py",
   "mimetype": "text/x-python",
   "name": "python",
   "nbconvert_exporter": "python",
   "pygments_lexer": "ipython3",
   "version": "3.9.7"
  }
 },
 "nbformat": 4,
 "nbformat_minor": 2
}
